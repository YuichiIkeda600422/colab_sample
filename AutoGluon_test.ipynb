{
  "nbformat": 4,
  "nbformat_minor": 0,
  "metadata": {
    "colab": {
      "name": "AutoGluon_test.ipynb",
      "provenance": [],
      "authorship_tag": "ABX9TyOH2BAi9RYvkSUGcw1CSzFe",
      "include_colab_link": true
    },
    "kernelspec": {
      "name": "python3",
      "display_name": "Python 3"
    }
  },
  "cells": [
    {
      "cell_type": "markdown",
      "metadata": {
        "id": "view-in-github",
        "colab_type": "text"
      },
      "source": [
        "<a href=\"https://colab.research.google.com/github/YuichiIkeda600422/colab_sample/blob/main/AutoGluon_test.ipynb\" target=\"_parent\"><img src=\"https://colab.research.google.com/assets/colab-badge.svg\" alt=\"Open In Colab\"/></a>"
      ]
    },
    {
      "cell_type": "code",
      "metadata": {
        "colab": {
          "base_uri": "https://localhost:8080/"
        },
        "id": "-WU8gljCl92X",
        "outputId": "6fb950b3-cd4a-4b62-989f-1ee2844eb8c6"
      },
      "source": [
        "!pip install --upgrade pip\r\n",
        "!pip install --upgrade \"mxnet<2.0.0\"\r\n",
        "!pip install autogluon"
      ],
      "execution_count": null,
      "outputs": [
        {
          "output_type": "stream",
          "text": [
            "Collecting pip\n",
            "\u001b[?25l  Downloading https://files.pythonhosted.org/packages/54/eb/4a3642e971f404d69d4f6fa3885559d67562801b99d7592487f1ecc4e017/pip-20.3.3-py2.py3-none-any.whl (1.5MB)\n",
            "\u001b[K     |████████████████████████████████| 1.5MB 8.6MB/s \n",
            "\u001b[?25hInstalling collected packages: pip\n",
            "  Found existing installation: pip 19.3.1\n",
            "    Uninstalling pip-19.3.1:\n",
            "      Successfully uninstalled pip-19.3.1\n",
            "Successfully installed pip-20.3.3\n",
            "Requirement already satisfied: mxnet<2.0.0 in /usr/local/lib/python3.6/dist-packages (1.7.0.post1)\n",
            "Requirement already satisfied: graphviz<0.9.0,>=0.8.1 in /usr/local/lib/python3.6/dist-packages (from mxnet<2.0.0) (0.8.4)\n",
            "Requirement already satisfied: numpy<2.0.0,>1.16.0 in /usr/local/lib/python3.6/dist-packages (from mxnet<2.0.0) (1.19.4)\n",
            "Requirement already satisfied: requests<3,>=2.20.0 in /usr/local/lib/python3.6/dist-packages (from mxnet<2.0.0) (2.23.0)\n",
            "Requirement already satisfied: urllib3!=1.25.0,!=1.25.1,<1.26,>=1.21.1 in /usr/local/lib/python3.6/dist-packages (from requests<3,>=2.20.0->mxnet<2.0.0) (1.24.3)\n",
            "Requirement already satisfied: certifi>=2017.4.17 in /usr/local/lib/python3.6/dist-packages (from requests<3,>=2.20.0->mxnet<2.0.0) (2020.12.5)\n",
            "Requirement already satisfied: idna<3,>=2.5 in /usr/local/lib/python3.6/dist-packages (from requests<3,>=2.20.0->mxnet<2.0.0) (2.10)\n",
            "Requirement already satisfied: chardet<4,>=3.0.2 in /usr/local/lib/python3.6/dist-packages (from requests<3,>=2.20.0->mxnet<2.0.0) (3.0.4)\n",
            "Requirement already satisfied: autogluon in /usr/local/lib/python3.6/dist-packages (0.0.15)\n",
            "Requirement already satisfied: gluoncv<0.9.0,>=0.5.0 in /usr/local/lib/python3.6/dist-packages (from autogluon) (0.8.0)\n",
            "Requirement already satisfied: boto3 in /usr/local/lib/python3.6/dist-packages (from autogluon) (1.16.48)\n",
            "Requirement already satisfied: distributed>=2.6.0 in /usr/local/lib/python3.6/dist-packages (from autogluon) (2020.12.0)\n",
            "Requirement already satisfied: catboost<0.25,>=0.23.0 in /usr/local/lib/python3.6/dist-packages (from autogluon) (0.24.4)\n",
            "Requirement already satisfied: lightgbm<4.0,>=3.0 in /usr/local/lib/python3.6/dist-packages (from autogluon) (3.1.1)\n",
            "Requirement already satisfied: tqdm>=4.38.0 in /usr/local/lib/python3.6/dist-packages (from autogluon) (4.41.1)\n",
            "Requirement already satisfied: scikit-learn<0.24,>=0.22.0 in /usr/local/lib/python3.6/dist-packages (from autogluon) (0.22.2.post1)\n",
            "Requirement already satisfied: pytest in /usr/local/lib/python3.6/dist-packages (from autogluon) (3.6.4)\n",
            "Requirement already satisfied: openml in /usr/local/lib/python3.6/dist-packages (from autogluon) (0.11.0)\n",
            "Requirement already satisfied: graphviz<0.9.0,>=0.8.1 in /usr/local/lib/python3.6/dist-packages (from autogluon) (0.8.4)\n",
            "Requirement already satisfied: ConfigSpace<=0.4.10 in /usr/local/lib/python3.6/dist-packages (from autogluon) (0.4.10)\n",
            "Requirement already satisfied: matplotlib in /usr/local/lib/python3.6/dist-packages (from autogluon) (3.2.2)\n",
            "Requirement already satisfied: scipy>=1.3.3 in /usr/local/lib/python3.6/dist-packages (from autogluon) (1.4.1)\n",
            "Requirement already satisfied: fastparquet==0.4.1 in /usr/local/lib/python3.6/dist-packages (from autogluon) (0.4.1)\n",
            "Requirement already satisfied: pyarrow<=1.0.0 in /usr/local/lib/python3.6/dist-packages (from autogluon) (0.14.1)\n",
            "Requirement already satisfied: tornado>=5.0.1 in /usr/local/lib/python3.6/dist-packages (from autogluon) (5.1.1)\n",
            "Requirement already satisfied: networkx<3.0,>=2.3 in /usr/local/lib/python3.6/dist-packages (from autogluon) (2.5)\n",
            "Requirement already satisfied: scikit-optimize in /usr/local/lib/python3.6/dist-packages (from autogluon) (0.8.1)\n",
            "Requirement already satisfied: requests in /usr/local/lib/python3.6/dist-packages (from autogluon) (2.23.0)\n",
            "Requirement already satisfied: autogluon-contrib-nlp in /usr/local/lib/python3.6/dist-packages (from autogluon) (0.0.1b20201009)\n",
            "Requirement already satisfied: Pillow<=6.2.1 in /usr/local/lib/python3.6/dist-packages (from autogluon) (6.2.1)\n",
            "Requirement already satisfied: dask>=2.6.0 in /usr/local/lib/python3.6/dist-packages (from autogluon) (2.12.0)\n",
            "Requirement already satisfied: pandas<2.0,>=1.0.0 in /usr/local/lib/python3.6/dist-packages (from autogluon) (1.1.5)\n",
            "Requirement already satisfied: cryptography>=2.8 in /usr/local/lib/python3.6/dist-packages (from autogluon) (3.3.1)\n",
            "Requirement already satisfied: numpy>=1.16.0 in /usr/local/lib/python3.6/dist-packages (from autogluon) (1.19.4)\n",
            "Requirement already satisfied: paramiko>=2.4 in /usr/local/lib/python3.6/dist-packages (from autogluon) (2.7.2)\n",
            "Requirement already satisfied: cython in /usr/local/lib/python3.6/dist-packages (from autogluon) (0.29.21)\n",
            "Requirement already satisfied: psutil<=5.7.0,>=5.0.0 in /usr/local/lib/python3.6/dist-packages (from autogluon) (5.4.8)\n",
            "Requirement already satisfied: thrift>=0.11.0 in /usr/local/lib/python3.6/dist-packages (from fastparquet==0.4.1->autogluon) (0.13.0)\n",
            "Requirement already satisfied: numba>=0.28 in /usr/local/lib/python3.6/dist-packages (from fastparquet==0.4.1->autogluon) (0.48.0)\n",
            "Requirement already satisfied: packaging in /usr/local/lib/python3.6/dist-packages (from fastparquet==0.4.1->autogluon) (20.8)\n",
            "Requirement already satisfied: six in /usr/local/lib/python3.6/dist-packages (from fastparquet==0.4.1->autogluon) (1.15.0)\n",
            "Requirement already satisfied: plotly in /usr/local/lib/python3.6/dist-packages (from catboost<0.25,>=0.23.0->autogluon) (4.4.1)\n",
            "Requirement already satisfied: pyparsing in /usr/local/lib/python3.6/dist-packages (from ConfigSpace<=0.4.10->autogluon) (2.4.7)\n",
            "Requirement already satisfied: typing in /usr/local/lib/python3.6/dist-packages (from ConfigSpace<=0.4.10->autogluon) (3.7.4.3)\n",
            "Requirement already satisfied: cffi>=1.12 in /usr/local/lib/python3.6/dist-packages (from cryptography>=2.8->autogluon) (1.14.4)\n",
            "Requirement already satisfied: pycparser in /usr/local/lib/python3.6/dist-packages (from cffi>=1.12->cryptography>=2.8->autogluon) (2.20)\n",
            "Requirement already satisfied: pyyaml in /usr/local/lib/python3.6/dist-packages (from distributed>=2.6.0->autogluon) (3.13)\n",
            "Requirement already satisfied: toolz>=0.8.2 in /usr/local/lib/python3.6/dist-packages (from distributed>=2.6.0->autogluon) (0.11.1)\n",
            "Requirement already satisfied: setuptools in /usr/local/lib/python3.6/dist-packages (from distributed>=2.6.0->autogluon) (51.0.0)\n",
            "Requirement already satisfied: contextvars in /usr/local/lib/python3.6/dist-packages (from distributed>=2.6.0->autogluon) (2.4)\n",
            "Requirement already satisfied: cloudpickle>=1.5.0 in /usr/local/lib/python3.6/dist-packages (from distributed>=2.6.0->autogluon) (1.6.0)\n",
            "Requirement already satisfied: click>=6.6 in /usr/local/lib/python3.6/dist-packages (from distributed>=2.6.0->autogluon) (7.1.2)\n",
            "Requirement already satisfied: tblib>=1.6.0 in /usr/local/lib/python3.6/dist-packages (from distributed>=2.6.0->autogluon) (1.7.0)\n",
            "Requirement already satisfied: zict>=0.1.3 in /usr/local/lib/python3.6/dist-packages (from distributed>=2.6.0->autogluon) (2.0.0)\n",
            "Requirement already satisfied: sortedcontainers!=2.0.0,!=2.0.1 in /usr/local/lib/python3.6/dist-packages (from distributed>=2.6.0->autogluon) (2.3.0)\n",
            "Requirement already satisfied: msgpack>=0.6.0 in /usr/local/lib/python3.6/dist-packages (from distributed>=2.6.0->autogluon) (1.0.1)\n",
            "Collecting dask>=2.6.0\n",
            "  Downloading dask-2020.12.0-py3-none-any.whl (884 kB)\n",
            "\u001b[K     |████████████████████████████████| 884 kB 8.8 MB/s \n",
            "\u001b[?25hRequirement already satisfied: portalocker in /usr/local/lib/python3.6/dist-packages (from gluoncv<0.9.0,>=0.5.0->autogluon) (2.0.0)\n",
            "Requirement already satisfied: wheel in /usr/local/lib/python3.6/dist-packages (from lightgbm<4.0,>=3.0->autogluon) (0.36.2)\n",
            "Requirement already satisfied: decorator>=4.3.0 in /usr/local/lib/python3.6/dist-packages (from networkx<3.0,>=2.3->autogluon) (4.4.2)\n",
            "Requirement already satisfied: llvmlite<0.32.0,>=0.31.0dev0 in /usr/local/lib/python3.6/dist-packages (from numba>=0.28->fastparquet==0.4.1->autogluon) (0.31.0)\n",
            "Requirement already satisfied: pytz>=2017.2 in /usr/local/lib/python3.6/dist-packages (from pandas<2.0,>=1.0.0->autogluon) (2018.9)\n",
            "Requirement already satisfied: python-dateutil>=2.7.3 in /usr/local/lib/python3.6/dist-packages (from pandas<2.0,>=1.0.0->autogluon) (2.8.1)\n",
            "Requirement already satisfied: bcrypt>=3.1.3 in /usr/local/lib/python3.6/dist-packages (from paramiko>=2.4->autogluon) (3.2.0)\n",
            "Requirement already satisfied: pynacl>=1.0.1 in /usr/local/lib/python3.6/dist-packages (from paramiko>=2.4->autogluon) (1.4.0)\n",
            "Requirement already satisfied: joblib>=0.11 in /usr/local/lib/python3.6/dist-packages (from scikit-learn<0.24,>=0.22.0->autogluon) (1.0.0)\n",
            "Requirement already satisfied: heapdict in /usr/local/lib/python3.6/dist-packages (from zict>=0.1.3->distributed>=2.6.0->autogluon) (1.0.1)\n",
            "Requirement already satisfied: yacs>=0.1.6 in /usr/local/lib/python3.6/dist-packages (from autogluon-contrib-nlp->autogluon) (0.1.8)\n",
            "Requirement already satisfied: sacrebleu in /usr/local/lib/python3.6/dist-packages (from autogluon-contrib-nlp->autogluon) (1.4.14)\n",
            "Requirement already satisfied: protobuf in /usr/local/lib/python3.6/dist-packages (from autogluon-contrib-nlp->autogluon) (3.12.4)\n",
            "Requirement already satisfied: sentencepiece in /usr/local/lib/python3.6/dist-packages (from autogluon-contrib-nlp->autogluon) (0.1.94)\n",
            "Requirement already satisfied: regex in /usr/local/lib/python3.6/dist-packages (from autogluon-contrib-nlp->autogluon) (2019.12.20)\n",
            "Requirement already satisfied: flake8 in /usr/local/lib/python3.6/dist-packages (from autogluon-contrib-nlp->autogluon) (3.8.4)\n",
            "Requirement already satisfied: sacremoses>=0.0.38 in /usr/local/lib/python3.6/dist-packages (from autogluon-contrib-nlp->autogluon) (0.0.43)\n",
            "Requirement already satisfied: tokenizers<0.9.0,>=0.7.0 in /usr/local/lib/python3.6/dist-packages (from autogluon-contrib-nlp->autogluon) (0.8.1)\n",
            "Requirement already satisfied: s3transfer<0.4.0,>=0.3.0 in /usr/local/lib/python3.6/dist-packages (from boto3->autogluon) (0.3.3)\n",
            "Requirement already satisfied: botocore<1.20.0,>=1.19.48 in /usr/local/lib/python3.6/dist-packages (from boto3->autogluon) (1.19.48)\n",
            "Requirement already satisfied: jmespath<1.0.0,>=0.7.1 in /usr/local/lib/python3.6/dist-packages (from boto3->autogluon) (0.10.0)\n",
            "Collecting urllib3<1.27,>=1.25.4\n",
            "  Downloading urllib3-1.26.2-py2.py3-none-any.whl (136 kB)\n",
            "\u001b[K     |████████████████████████████████| 136 kB 25.1 MB/s \n",
            "\u001b[?25hRequirement already satisfied: immutables>=0.9 in /usr/local/lib/python3.6/dist-packages (from contextvars->distributed>=2.6.0->autogluon) (0.14)\n",
            "Requirement already satisfied: mccabe<0.7.0,>=0.6.0 in /usr/local/lib/python3.6/dist-packages (from flake8->autogluon-contrib-nlp->autogluon) (0.6.1)\n",
            "Requirement already satisfied: pycodestyle<2.7.0,>=2.6.0a1 in /usr/local/lib/python3.6/dist-packages (from flake8->autogluon-contrib-nlp->autogluon) (2.6.0)\n",
            "Requirement already satisfied: pyflakes<2.3.0,>=2.2.0 in /usr/local/lib/python3.6/dist-packages (from flake8->autogluon-contrib-nlp->autogluon) (2.2.0)\n",
            "Requirement already satisfied: importlib-metadata in /usr/local/lib/python3.6/dist-packages (from flake8->autogluon-contrib-nlp->autogluon) (3.3.0)\n",
            "Requirement already satisfied: typing-extensions>=3.6.4 in /usr/local/lib/python3.6/dist-packages (from importlib-metadata->flake8->autogluon-contrib-nlp->autogluon) (3.7.4.3)\n",
            "Requirement already satisfied: zipp>=0.5 in /usr/local/lib/python3.6/dist-packages (from importlib-metadata->flake8->autogluon-contrib-nlp->autogluon) (3.4.0)\n",
            "Requirement already satisfied: cycler>=0.10 in /usr/local/lib/python3.6/dist-packages (from matplotlib->autogluon) (0.10.0)\n",
            "Requirement already satisfied: kiwisolver>=1.0.1 in /usr/local/lib/python3.6/dist-packages (from matplotlib->autogluon) (1.3.1)\n",
            "Requirement already satisfied: xmltodict in /usr/local/lib/python3.6/dist-packages (from openml->autogluon) (0.12.0)\n",
            "Requirement already satisfied: liac-arff>=2.4.0 in /usr/local/lib/python3.6/dist-packages (from openml->autogluon) (2.5.0)\n",
            "Requirement already satisfied: retrying>=1.3.3 in /usr/local/lib/python3.6/dist-packages (from plotly->catboost<0.25,>=0.23.0->autogluon) (1.3.3)\n",
            "Requirement already satisfied: pluggy<0.8,>=0.5 in /usr/local/lib/python3.6/dist-packages (from pytest->autogluon) (0.7.1)\n",
            "Requirement already satisfied: py>=1.5.0 in /usr/local/lib/python3.6/dist-packages (from pytest->autogluon) (1.10.0)\n",
            "Requirement already satisfied: attrs>=17.4.0 in /usr/local/lib/python3.6/dist-packages (from pytest->autogluon) (20.3.0)\n",
            "Requirement already satisfied: more-itertools>=4.0.0 in /usr/local/lib/python3.6/dist-packages (from pytest->autogluon) (8.6.0)\n",
            "Requirement already satisfied: atomicwrites>=1.0 in /usr/local/lib/python3.6/dist-packages (from pytest->autogluon) (1.4.0)\n",
            "Requirement already satisfied: certifi>=2017.4.17 in /usr/local/lib/python3.6/dist-packages (from requests->autogluon) (2020.12.5)\n",
            "Requirement already satisfied: chardet<4,>=3.0.2 in /usr/local/lib/python3.6/dist-packages (from requests->autogluon) (3.0.4)\n",
            "Requirement already satisfied: idna<3,>=2.5 in /usr/local/lib/python3.6/dist-packages (from requests->autogluon) (2.10)\n",
            "  Downloading urllib3-1.25.11-py2.py3-none-any.whl (127 kB)\n",
            "\u001b[K     |████████████████████████████████| 127 kB 26.2 MB/s \n",
            "\u001b[?25hRequirement already satisfied: pyaml>=16.9 in /usr/local/lib/python3.6/dist-packages (from scikit-optimize->autogluon) (20.4.0)\n",
            "Installing collected packages: urllib3, dask\n",
            "  Attempting uninstall: urllib3\n",
            "    Found existing installation: urllib3 1.24.3\n",
            "    Uninstalling urllib3-1.24.3:\n",
            "      Successfully uninstalled urllib3-1.24.3\n",
            "  Attempting uninstall: dask\n",
            "    Found existing installation: dask 2.12.0\n",
            "    Uninstalling dask-2.12.0:\n",
            "      Successfully uninstalled dask-2.12.0\n",
            "\u001b[31mERROR: pip's dependency resolver does not currently take into account all the packages that are installed. This behaviour is the source of the following dependency conflicts.\n",
            "datascience 0.10.6 requires folium==0.2.1, but you have folium 0.8.3 which is incompatible.\u001b[0m\n",
            "Successfully installed dask-2020.12.0 urllib3-1.25.11\n"
          ],
          "name": "stdout"
        }
      ]
    },
    {
      "cell_type": "code",
      "metadata": {
        "id": "xataYelRmZ4v"
      },
      "source": [
        "import autogluon as ag\r\n",
        "from autogluon import TabularPrediction as task"
      ],
      "execution_count": null,
      "outputs": []
    },
    {
      "cell_type": "code",
      "metadata": {
        "colab": {
          "base_uri": "https://localhost:8080/"
        },
        "id": "X39aH2zMoIC6",
        "outputId": "927b020a-f7f1-4c81-e340-c9939eeaf9d0"
      },
      "source": [
        "train_data = task.Dataset(file_path='https://autogluon.s3.amazonaws.com/datasets/Inc/train.csv')\r\n",
        "train_data = train_data.head(10000)\r\n",
        "print(train_data.head())"
      ],
      "execution_count": null,
      "outputs": [
        {
          "output_type": "stream",
          "text": [
            "Loaded data from: https://autogluon.s3.amazonaws.com/datasets/Inc/train.csv | Columns = 15 / 15 | Rows = 39073 -> 39073\n"
          ],
          "name": "stderr"
        },
        {
          "output_type": "stream",
          "text": [
            "   age   workclass  fnlwgt  ... hours-per-week  native-country   class\n",
            "0   25     Private  178478  ...             40   United-States   <=50K\n",
            "1   23   State-gov   61743  ...             35   United-States   <=50K\n",
            "2   46     Private  376789  ...             15   United-States   <=50K\n",
            "3   55           ?  200235  ...             50   United-States    >50K\n",
            "4   36     Private  224541  ...             40     El-Salvador   <=50K\n",
            "\n",
            "[5 rows x 15 columns]\n"
          ],
          "name": "stdout"
        }
      ]
    },
    {
      "cell_type": "code",
      "metadata": {
        "colab": {
          "base_uri": "https://localhost:8080/"
        },
        "id": "bpFCYfwXnDZu",
        "outputId": "15d5a3b0-dc03-4759-e240-00d82d288214"
      },
      "source": [
        "label_column = 'class'\r\n",
        "print(\"Summary of class variable: \\n\", train_data[label_column].describe())"
      ],
      "execution_count": null,
      "outputs": [
        {
          "output_type": "stream",
          "text": [
            "NumExpr defaulting to 2 threads.\n"
          ],
          "name": "stderr"
        },
        {
          "output_type": "stream",
          "text": [
            "Summary of class variable: \n",
            " count      10000\n",
            "unique         2\n",
            "top        <=50K\n",
            "freq        7568\n",
            "Name: class, dtype: object\n"
          ],
          "name": "stdout"
        }
      ]
    },
    {
      "cell_type": "code",
      "metadata": {
        "colab": {
          "base_uri": "https://localhost:8080/"
        },
        "id": "PGWuYbEsw_hC",
        "outputId": "4d8d7b8b-45c3-4709-83f9-4b0485a78b53"
      },
      "source": [
        "%%time\r\n",
        "dir = 'agModels-predictClass' # specifies folder where to store trained models\r\n",
        "predictor = task.fit(train_data=train_data, label=label_column, output_directory=dir)"
      ],
      "execution_count": null,
      "outputs": [
        {
          "output_type": "stream",
          "text": [
            "Beginning AutoGluon training ...\n",
            "AutoGluon will save models to agModels-predictClass/\n",
            "AutoGluon Version:  0.0.15\n",
            "Train Data Rows:    10000\n",
            "Train Data Columns: 14\n",
            "Preprocessing data ...\n",
            "AutoGluon infers your prediction problem is: 'binary' (because only two unique label-values observed).\n",
            "\t2 unique label values:  [' <=50K', ' >50K']\n",
            "\tIf 'binary' is not the correct problem_type, please manually specify the problem_type argument in fit() (You may specify problem_type as one of: ['binary', 'multiclass', 'regression'])\n",
            "Selected class <--> label mapping:  class 1 =  >50K, class 0 =  <=50K\n",
            "Using Feature Generators to preprocess the data ...\n",
            "Fitting AutoMLPipelineFeatureGenerator...\n",
            "\tAvailable Memory:                    12686.97 MB\n",
            "\tTrain Data (Original)  Memory Usage: 5.87 MB (0.0% of available memory)\n",
            "\tInferring data type of each feature based on column values. Set feature_metadata_in to manually specify special dtypes of the features.\n",
            "\tStage 1 Generators:\n",
            "\t\tFitting AsTypeFeatureGenerator...\n",
            "\tStage 2 Generators:\n",
            "\t\tFitting FillNaFeatureGenerator...\n",
            "\tStage 3 Generators:\n",
            "\t\tFitting IdentityFeatureGenerator...\n",
            "\t\tFitting CategoryFeatureGenerator...\n",
            "\t\t\tFitting CategoryMemoryMinimizeFeatureGenerator...\n",
            "\tStage 4 Generators:\n",
            "\t\tFitting DropUniqueFeatureGenerator...\n",
            "\tTypes of features in original data (raw dtype, special dtypes):\n",
            "\t\t('int', [])    : 6 | ['age', 'fnlwgt', 'education-num', 'capital-gain', 'capital-loss', ...]\n",
            "\t\t('object', []) : 8 | ['workclass', 'education', 'marital-status', 'occupation', 'relationship', ...]\n",
            "\tTypes of features in processed data (raw dtype, special dtypes):\n",
            "\t\t('category', []) : 8 | ['workclass', 'education', 'marital-status', 'occupation', 'relationship', ...]\n",
            "\t\t('int', [])      : 6 | ['age', 'fnlwgt', 'education-num', 'capital-gain', 'capital-loss', ...]\n",
            "\t0.1s = Fit runtime\n",
            "\t14 features in original data used to generate 14 features in processed data.\n",
            "\tTrain Data (Processed) Memory Usage: 0.56 MB (0.0% of available memory)\n",
            "Data preprocessing and feature engineering runtime = 0.17s ...\n",
            "AutoGluon will gauge predictive performance using evaluation metric: 'accuracy'\n",
            "\tTo change this, specify the eval_metric argument of fit()\n",
            "AutoGluon will early stop models using evaluation metric: 'accuracy'\n",
            "Fitting model: RandomForestClassifierGini ...\n",
            "\t0.845\t = Validation accuracy score\n",
            "\t2.23s\t = Training runtime\n",
            "\t0.11s\t = Validation runtime\n",
            "Fitting model: RandomForestClassifierEntr ...\n",
            "\t0.852\t = Validation accuracy score\n",
            "\t2.74s\t = Training runtime\n",
            "\t0.11s\t = Validation runtime\n",
            "Fitting model: ExtraTreesClassifierGini ...\n",
            "\t0.833\t = Validation accuracy score\n",
            "\t1.82s\t = Training runtime\n",
            "\t0.21s\t = Validation runtime\n",
            "Fitting model: ExtraTreesClassifierEntr ...\n",
            "\t0.837\t = Validation accuracy score\n",
            "\t2.03s\t = Training runtime\n",
            "\t0.21s\t = Validation runtime\n",
            "Fitting model: KNeighborsClassifierUnif ...\n",
            "\t0.774\t = Validation accuracy score\n",
            "\t0.23s\t = Training runtime\n",
            "\t0.11s\t = Validation runtime\n",
            "Fitting model: KNeighborsClassifierDist ...\n",
            "\t0.763\t = Validation accuracy score\n",
            "\t0.02s\t = Training runtime\n",
            "\t0.11s\t = Validation runtime\n",
            "Fitting model: LightGBMClassifier ...\n",
            "\t0.85\t = Validation accuracy score\n",
            "\t0.5s\t = Training runtime\n",
            "\t0.02s\t = Validation runtime\n",
            "Fitting model: LightGBMClassifierXT ...\n",
            "\t0.846\t = Validation accuracy score\n",
            "\t0.51s\t = Training runtime\n",
            "\t0.02s\t = Validation runtime\n",
            "Fitting model: CatboostClassifier ...\n",
            "\t0.85\t = Validation accuracy score\n",
            "\t5.25s\t = Training runtime\n",
            "\t0.02s\t = Validation runtime\n",
            "Fitting model: NeuralNetClassifier ...\n",
            "\t0.84\t = Validation accuracy score\n",
            "\t41.96s\t = Training runtime\n",
            "\t0.12s\t = Validation runtime\n",
            "Fitting model: LightGBMClassifierCustom ...\n",
            "\t0.847\t = Validation accuracy score\n",
            "\t0.92s\t = Training runtime\n",
            "\t0.02s\t = Validation runtime\n",
            "Fitting model: weighted_ensemble_k0_l1 ...\n",
            "\t0.854\t = Validation accuracy score\n",
            "\t0.61s\t = Training runtime\n",
            "\t0.0s\t = Validation runtime\n",
            "AutoGluon training complete, total runtime = 63.01s ...\n"
          ],
          "name": "stderr"
        },
        {
          "output_type": "stream",
          "text": [
            "CPU times: user 1min 30s, sys: 3.15 s, total: 1min 33s\n",
            "Wall time: 1min 3s\n"
          ],
          "name": "stdout"
        }
      ]
    },
    {
      "cell_type": "code",
      "metadata": {
        "colab": {
          "base_uri": "https://localhost:8080/"
        },
        "id": "yxfopycxxOmb",
        "outputId": "1da1a09b-c102-49cf-90f1-c4e0daeb4838"
      },
      "source": [
        "results = predictor.fit_summary()"
      ],
      "execution_count": null,
      "outputs": [
        {
          "output_type": "stream",
          "text": [
            "*** Summary of fit() ***\n",
            "Estimated performance of each model:\n",
            "                         model  score_val  pred_time_val   fit_time  pred_time_val_marginal  fit_time_marginal  stack_level  can_infer  fit_order\n",
            "0      weighted_ensemble_k0_l1      0.854       0.346473  10.416801                0.002270           0.606055            1       True         12\n",
            "1   RandomForestClassifierEntr      0.852       0.110892   2.739066                0.110892           2.739066            0       True          2\n",
            "2           LightGBMClassifier      0.850       0.018725   0.498305                0.018725           0.498305            0       True          7\n",
            "3           CatboostClassifier      0.850       0.022314   5.249071                0.022314           5.249071            0       True          9\n",
            "4     LightGBMClassifierCustom      0.847       0.024668   0.923192                0.024668           0.923192            0       True         11\n",
            "5         LightGBMClassifierXT      0.846       0.018635   0.513316                0.018635           0.513316            0       True          8\n",
            "6   RandomForestClassifierGini      0.845       0.111284   2.233217                0.111284           2.233217            0       True          1\n",
            "7          NeuralNetClassifier      0.840       0.116083  41.956745                0.116083          41.956745            0       True         10\n",
            "8     ExtraTreesClassifierEntr      0.837       0.210756   2.030179                0.210756           2.030179            0       True          4\n",
            "9     ExtraTreesClassifierGini      0.833       0.210997   1.822609                0.210997           1.822609            0       True          3\n",
            "10    KNeighborsClassifierUnif      0.774       0.105449   0.226210                0.105449           0.226210            0       True          5\n",
            "11    KNeighborsClassifierDist      0.763       0.105118   0.020664                0.105118           0.020664            0       True          6\n",
            "Number of models trained: 12\n",
            "Types of models trained:\n",
            "{'CatboostModel', 'RFModel', 'XTModel', 'WeightedEnsembleModel', 'TabularNeuralNetModel', 'KNNModel', 'LGBModel'}\n",
            "Bagging used: False \n",
            "Stack-ensembling used: False \n",
            "Hyperparameter-tuning used: False \n",
            "User-specified hyperparameters:\n",
            "{'default': {'NN': [{}], 'GBM': [{}, {'extra_trees': True, 'AG_args': {'name_suffix': 'XT'}}], 'CAT': [{}], 'RF': [{'criterion': 'gini', 'AG_args': {'name_suffix': 'Gini', 'problem_types': ['binary', 'multiclass']}}, {'criterion': 'entropy', 'AG_args': {'name_suffix': 'Entr', 'problem_types': ['binary', 'multiclass']}}], 'XT': [{'criterion': 'gini', 'AG_args': {'name_suffix': 'Gini', 'problem_types': ['binary', 'multiclass']}}, {'criterion': 'entropy', 'AG_args': {'name_suffix': 'Entr', 'problem_types': ['binary', 'multiclass']}}], 'KNN': [{'weights': 'uniform', 'AG_args': {'name_suffix': 'Unif'}}, {'weights': 'distance', 'AG_args': {'name_suffix': 'Dist'}}], 'custom': [{'num_boost_round': 10000, 'num_threads': -1, 'objective': 'binary', 'verbose': -1, 'boosting_type': 'gbdt', 'learning_rate': 0.03, 'num_leaves': 128, 'feature_fraction': 0.9, 'min_data_in_leaf': 5, 'two_round': True, 'seed_value': 0, 'AG_args': {'model_type': 'GBM', 'name_suffix': 'Custom', 'disable_in_hpo': True}}]}}\n",
            "Feature Metadata (Processed):\n",
            "(raw dtype, special dtypes):\n",
            "('category', []) : 8 | ['workclass', 'education', 'marital-status', 'occupation', 'relationship', ...]\n",
            "('int', [])      : 6 | ['age', 'fnlwgt', 'education-num', 'capital-gain', 'capital-loss', ...]\n",
            "Plot summary of models saved to file: agModels-predictClass/SummaryOfModels.html\n",
            "*** End of fit() summary ***\n"
          ],
          "name": "stdout"
        }
      ]
    },
    {
      "cell_type": "code",
      "metadata": {
        "colab": {
          "base_uri": "https://localhost:8080/"
        },
        "id": "b9RvZbZvx_bM",
        "outputId": "6d3cbc42-8a5c-4622-aaed-80a9b6fb89cb"
      },
      "source": [
        "test_data = task.Dataset(file_path='https://autogluon.s3.amazonaws.com/datasets/Inc/test.csv')\r\n",
        "y_test = test_data[label_column]  # values to predict\r\n",
        "test_data_nolab = test_data.drop(labels=[label_column],axis=1) # delete label column to prove we're not cheating\r\n",
        "print(test_data_nolab.head())"
      ],
      "execution_count": null,
      "outputs": [
        {
          "output_type": "stream",
          "text": [
            "Loaded data from: https://autogluon.s3.amazonaws.com/datasets/Inc/test.csv | Columns = 15 / 15 | Rows = 9769 -> 9769\n"
          ],
          "name": "stderr"
        },
        {
          "output_type": "stream",
          "text": [
            "   age          workclass  fnlwgt  ... capital-loss  hours-per-week  native-country\n",
            "0   31            Private  169085  ...            0              20   United-States\n",
            "1   17   Self-emp-not-inc  226203  ...            0              45   United-States\n",
            "2   47            Private   54260  ...         1887              60   United-States\n",
            "3   21            Private  176262  ...            0              30   United-States\n",
            "4   17            Private  241185  ...            0              20   United-States\n",
            "\n",
            "[5 rows x 14 columns]\n"
          ],
          "name": "stdout"
        }
      ]
    },
    {
      "cell_type": "code",
      "metadata": {
        "colab": {
          "base_uri": "https://localhost:8080/"
        },
        "id": "-aMGrVyKzB4g",
        "outputId": "46661f4e-d901-41ea-ba17-1996b7f1272e"
      },
      "source": [
        "predictor = task.load(dir) # unnecessary, just demonstrates how to load previously-trained predictor from file\r\n",
        "\r\n",
        "y_pred = predictor.predict(test_data_nolab)\r\n",
        "print(\"Predictions:  \", y_pred)\r\n",
        "perf = predictor.evaluate_predictions(y_true=y_test, y_pred=y_pred, auxiliary_metrics=True)\r\n"
      ],
      "execution_count": null,
      "outputs": [
        {
          "output_type": "stream",
          "text": [
            "Evaluation: accuracy on test data: 0.8556658818712253\n",
            "Evaluations on test data:\n",
            "{\n",
            "    \"accuracy\": 0.8556658818712253,\n",
            "    \"accuracy_score\": 0.8556658818712253,\n",
            "    \"balanced_accuracy_score\": 0.7710491402616739,\n",
            "    \"matthews_corrcoef\": 0.5803423291109661,\n",
            "    \"f1_score\": 0.8556658818712253\n",
            "}\n"
          ],
          "name": "stderr"
        },
        {
          "output_type": "stream",
          "text": [
            "Predictions:   [' <=50K' ' <=50K' ' >50K' ... ' >50K' ' <=50K' ' <=50K']\n"
          ],
          "name": "stdout"
        },
        {
          "output_type": "stream",
          "text": [
            "Detailed (per-class) classification report:\n",
            "{\n",
            "    \" <=50K\": {\n",
            "        \"precision\": 0.8848260924958593,\n",
            "        \"recall\": 0.9320896523956516,\n",
            "        \"f1-score\": 0.907843137254902,\n",
            "        \"support\": 7451\n",
            "    },\n",
            "    \" >50K\": {\n",
            "        \"precision\": 0.7364583333333333,\n",
            "        \"recall\": 0.6100086281276963,\n",
            "        \"f1-score\": 0.6672958942897593,\n",
            "        \"support\": 2318\n",
            "    },\n",
            "    \"accuracy\": 0.8556658818712253,\n",
            "    \"macro avg\": {\n",
            "        \"precision\": 0.8106422129145963,\n",
            "        \"recall\": 0.7710491402616739,\n",
            "        \"f1-score\": 0.7875695157723306,\n",
            "        \"support\": 9769\n",
            "    },\n",
            "    \"weighted avg\": {\n",
            "        \"precision\": 0.8496212132104939,\n",
            "        \"recall\": 0.8556658818712253,\n",
            "        \"f1-score\": 0.8507657998413284,\n",
            "        \"support\": 9769\n",
            "    }\n",
            "}\n"
          ],
          "name": "stderr"
        }
      ]
    },
    {
      "cell_type": "code",
      "metadata": {
        "id": "MAb9FoMDzZ9C"
      },
      "source": [
        ""
      ],
      "execution_count": null,
      "outputs": []
    }
  ]
}